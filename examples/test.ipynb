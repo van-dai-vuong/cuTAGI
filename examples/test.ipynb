{
 "cells": [
  {
   "cell_type": "code",
   "execution_count": 1,
   "metadata": {},
   "outputs": [],
   "source": [
    "# Temporary import. It will be removed in the final vserion\n",
    "import os\n",
    "import sys\n",
    "\n",
    "import os\n",
    "os.chdir('/Users/zhanwenxin/Documents/GitHub/cuTAGI-LSTM')\n",
    "\n",
    "import matplotlib.pyplot as plt\n",
    "import numpy as np\n",
    "import pandas as pd\n",
    "from tqdm import tqdm\n",
    "\n",
    "import pytagi.metric as metric\n",
    "from pytagi import Normalizer as normalizer\n",
    "from pytagi import exponential_scheduler\n",
    "from pytagi.nn import LSTM, Linear, Sequential\n",
    "\n",
    "from examples.data_loader import TimeSeriesDataloader\n",
    "from pytagi.hybrid import LSTM_SSM\n",
    "from pytagi.hybrid import process_input_ssm"
   ]
  },
  {
   "cell_type": "code",
   "execution_count": 2,
   "metadata": {},
   "outputs": [],
   "source": [
    "num_epochs: int = 1\n",
    "batch_size: int = 1\n",
    "sigma_v: float = 1\n",
    "\n",
    "\"\"\"Run training for time-series forecasting model\"\"\"\n",
    "# Dataset\n",
    "output_col = [0]\n",
    "num_features = 5\n",
    "input_seq_len = 26\n",
    "output_seq_len = 1\n",
    "seq_stride = 1\n",
    "\n",
    "# Network\n",
    "net = Sequential(\n",
    "    LSTM(num_features, 30, input_seq_len),\n",
    "    LSTM(30, 30, input_seq_len),\n",
    "    Linear(30 * input_seq_len, 1),\n",
    ")\n",
    "net.set_threads(8)\n",
    "net.load(filename='./saved_param/HQ_hybrid_LSTM/lstm_hq_hybrid.pth')\n",
    "# #net.to_device(\"cuda\")\n",
    "\n",
    "# # State-space models: for baseline hidden states\n",
    "phi_AA = 0.999\n",
    "Sigma_AR = 0.05\n",
    "LA_var_stationary = Sigma_AR*1e-17 /(1-phi_AA**2)\n",
    "# Autoregressive acceleration + online AR\n",
    "hybrid = LSTM_SSM(\n",
    "    neural_network = net,           # LSTM\n",
    "    baseline = 'AA + AR', # 'level', 'trend', 'acceleration', 'ETS'\n",
    "    zB  = np.array([0.1, 1E-4, 0, 0.5, 0.02]),    # initial mu for baseline hidden states\n",
    "    SzB = np.array([1E-5, 1E-8, LA_var_stationary, 0.25, Sigma_AR]),    # var\n",
    "    phi_AA = phi_AA,\n",
    "    Sigma_AR = Sigma_AR\n",
    ")"
   ]
  },
  {
   "cell_type": "code",
   "execution_count": 3,
   "metadata": {},
   "outputs": [],
   "source": [
    "train_dtl = TimeSeriesDataloader(\n",
    "    x_file=\"data/HQ/LGA007PIAP-E010_Y_train.csv\",\n",
    "    date_time_file=\"data/HQ/LGA007PIAP-E010_Y_train_datetime.csv\",\n",
    "    output_col=output_col,\n",
    "    input_seq_len=input_seq_len,\n",
    "    output_seq_len=output_seq_len,\n",
    "    num_features=num_features,\n",
    "    stride=seq_stride,\n",
    "    time_covariates = ['week_of_year'],  # 'hour_of_day','day_of_week', 'week_of_year', 'month_of_year','quarter_of_year'\n",
    ")\n",
    "test_dtl = TimeSeriesDataloader(\n",
    "    x_file=\"data/HQ/LGA007PIAP-E010_Y_val.csv\",\n",
    "    date_time_file=\"data/HQ/LGA007PIAP-E010_Y_val_datetime.csv\",\n",
    "    output_col=output_col,\n",
    "    input_seq_len=input_seq_len,\n",
    "    output_seq_len=output_seq_len,\n",
    "    num_features=num_features,\n",
    "    stride=seq_stride,\n",
    "    x_mean=train_dtl.x_mean,\n",
    "    x_std=train_dtl.x_std,\n",
    "    time_covariates = ['week_of_year'],  # 'hour_of_day','day_of_week', 'week_of_year'\n",
    ")"
   ]
  },
  {
   "cell_type": "code",
   "execution_count": 4,
   "metadata": {},
   "outputs": [
    {
     "name": "stderr",
     "output_type": "stream",
     "text": [
      "Training Progress:   0%|          | 0/1 [00:00<?, ?it/s]/Users/zhanwenxin/Documents/GitHub/cuTAGI-LSTM/pytagi/metric.py:29: RuntimeWarning: Mean of empty slice\n",
      "  return np.nanmean((prediction - observation) ** 2)\n",
      "Epoch 1/1| mse:    0.01: 100%|██████████| 1/1 [00:01<00:00,  1.83s/it]\n"
     ]
    }
   ],
   "source": [
    "# -------------------------------------------------------------------------#\n",
    "# Training\n",
    "mses = []\n",
    "\n",
    "pbar = tqdm(range(num_epochs), desc=\"Training Progress\")\n",
    "for epoch in pbar:\n",
    "    batch_iter = train_dtl.create_data_loader(batch_size, shuffle=False)\n",
    "\n",
    "    # Decaying observation's variance\n",
    "    sigma_v = exponential_scheduler(\n",
    "        curr_v=1E-12, min_v=1E-12, decaying_factor=1, curr_iter=epoch\n",
    "    )\n",
    "    var_y = np.full((batch_size * len(output_col),), sigma_v**2, dtype=np.float32)\n",
    "\n",
    "    # Initialize list to save\n",
    "    hybrid.init_ssm_hs()\n",
    "    mu_preds_lstm = []\n",
    "    var_preds_lstm = []\n",
    "    mu_preds_unnorm = []\n",
    "    obs_unnorm = []\n",
    "    mu_ar = []\n",
    "    var_ar = []\n",
    "    mu_aa = []\n",
    "    var_aa = []\n",
    "\n",
    "    for x, y in batch_iter:\n",
    "        mu_x, var_x = process_input_ssm(\n",
    "            mu_x = x, mu_preds_lstm = mu_preds_lstm, var_preds_lstm = var_preds_lstm,\n",
    "            input_seq_len = input_seq_len, num_features = num_features,\n",
    "            )\n",
    "\n",
    "        # Feed forward\n",
    "        y_pred, _, z_pred, Sz_pred, m_pred, v_pred = hybrid(mu_x, var_x)\n",
    "        # Backward\n",
    "        hybrid.backward(mu_obs = y, var_obs = var_y, train_LSTM = False)\n",
    "\n",
    "        # Training metric\n",
    "        pred = normalizer.unstandardize(\n",
    "            y_pred.flatten(), train_dtl.x_mean[output_col], train_dtl.x_std[output_col]\n",
    "        )\n",
    "        obs = normalizer.unstandardize(\n",
    "            y, train_dtl.x_mean[output_col], train_dtl.x_std[output_col]\n",
    "        )\n",
    "        mse = metric.mse(pred, obs)\n",
    "        mses.append(mse)\n",
    "        mu_preds_lstm.extend(m_pred)\n",
    "        var_preds_lstm.extend(v_pred)\n",
    "        obs_unnorm.extend(y)\n",
    "        mu_preds_unnorm.extend(y_pred)\n",
    "        mu_ar.append(z_pred[-3].item())\n",
    "        var_ar.append(Sz_pred[-3][-3])\n",
    "        mu_aa.append(z_pred[2].item())\n",
    "        var_aa.append(Sz_pred[2][2])\n",
    "\n",
    "    # Smoother\n",
    "    hybrid.smoother()\n",
    "    mu_smoothed = np.array(hybrid.mu_smoothed)\n",
    "    cov_smoothed = np.array(hybrid.cov_smoothed)\n",
    "\n",
    "    # Progress bar\n",
    "    pbar.set_description(\n",
    "        f\"Epoch {epoch + 1}/{num_epochs}| mse: {np.nanmean(mses):>7.2f}\",\n",
    "        refresh=True,\n",
    "    )"
   ]
  },
  {
   "cell_type": "code",
   "execution_count": 9,
   "metadata": {},
   "outputs": [
    {
     "name": "stdout",
     "output_type": "stream",
     "text": [
      "[1.29422196]\n",
      "[1.04736457]\n"
     ]
    }
   ],
   "source": [
    "print(train_dtl.x_mean[output_col])\n",
    "print(train_dtl.x_std[output_col])"
   ]
  },
  {
   "cell_type": "code",
   "execution_count": 5,
   "metadata": {},
   "outputs": [],
   "source": [
    "# Testing\n",
    "test_batch_iter = test_dtl.create_data_loader(batch_size, shuffle=False)\n",
    "\n",
    "# Initialize list to save\n",
    "mu_preds = []\n",
    "var_preds = []\n",
    "y_test = []\n",
    "obs_test_unnorm = []\n",
    "#\n",
    "\n",
    "for x, y in test_batch_iter:\n",
    "    mu_x, var_x = process_input_ssm(\n",
    "        mu_x = x, mu_preds_lstm = mu_preds_lstm, var_preds_lstm = var_preds_lstm,\n",
    "        input_seq_len = input_seq_len,num_features = num_features,\n",
    "    )\n",
    "    # Feed forward\n",
    "    y_pred, Sy_red, _, _, m_pred, v_pred = hybrid(mu_x, var_x)\n",
    "\n",
    "    mu_preds.extend(y_pred)\n",
    "    var_preds.extend(Sy_red + sigma_v**2)\n",
    "    y_test.extend(y)\n",
    "    mu_preds_lstm.extend(m_pred)\n",
    "    var_preds_lstm.extend(v_pred)\n",
    "\n",
    "mu_preds = np.array(mu_preds)\n",
    "std_preds = np.array(var_preds) ** 0.5\n",
    "y_test = np.array(y_test)\n",
    "obs_test_unnorm = y_test\n",
    "mu_preds_unnorm_test = mu_preds\n",
    "std_preds_unnorm_test = std_preds\n",
    "\n",
    "mu_preds = normalizer.unstandardize(\n",
    "    mu_preds, train_dtl.x_mean[output_col], train_dtl.x_std[output_col]\n",
    ")\n",
    "std_preds = normalizer.unstandardize_std(std_preds, train_dtl.x_std[output_col])\n",
    "\n",
    "y_test = normalizer.unstandardize(\n",
    "    y_test, train_dtl.x_mean[output_col], train_dtl.x_std[output_col]\n",
    ")"
   ]
  },
  {
   "cell_type": "code",
   "execution_count": 6,
   "metadata": {},
   "outputs": [
    {
     "name": "stdout",
     "output_type": "stream",
     "text": [
      "#############\n",
      "MSE           :  2.18\n",
      "Log-likelihood: -18.36\n"
     ]
    },
    {
     "data": {
      "image/png": "[encoded data removed]",
      "text/plain": [
       "<Figure size 640x480 with 1 Axes>"
      ]
     },
     "metadata": {},
     "output_type": "display_data"
    }
   ],
   "source": [
    "# Compute log-likelihood\n",
    "mse = metric.mse(mu_preds, y_test)\n",
    "log_lik = metric.log_likelihood(\n",
    "    prediction=mu_preds, observation=y_test, std=std_preds\n",
    ")\n",
    "\n",
    "#\n",
    "obs = np.concatenate((obs_unnorm,obs_test_unnorm), axis=0)\n",
    "idx_train = range(0,len(obs_unnorm))\n",
    "idx_test = range(len(obs_unnorm),len(obs))\n",
    "idx = np.concatenate((idx_train,idx_test),axis=0)\n",
    "mu_preds_unnorm_test = mu_preds_unnorm_test.flatten()\n",
    "std_preds_unnorm_test = std_preds_unnorm_test.flatten()\n",
    "\n",
    "# figure for final test predictions\n",
    "plt.figure()\n",
    "plt.plot(idx,obs, color='r',label=r\"data\")\n",
    "plt.plot(idx_test, mu_preds_unnorm_test, color='b',label=r\"test prediction\")\n",
    "plt.fill_between(idx_test, mu_preds_unnorm_test - std_preds_unnorm_test, mu_preds_unnorm_test + std_preds_unnorm_test, color='blue', alpha=0.3, label='±1 SD')\n",
    "plt.plot(idx_train,mu_smoothed[:,0,:],color='k',label=r\"level\")\n",
    "\n",
    "print(\"#############\")\n",
    "print(f\"MSE           : {mse: 0.2f}\")\n",
    "print(f\"Log-likelihood: {log_lik: 0.2f}\")"
   ]
  }
 ],
 "metadata": {
  "kernelspec": {
   "display_name": "pytagi_lstm",
   "language": "python",
   "name": "python3"
  },
  "language_info": {
   "codemirror_mode": {
    "name": "ipython",
    "version": 3
   },
   "file_extension": ".py",
   "mimetype": "text/x-python",
   "name": "python",
   "nbconvert_exporter": "python",
   "pygments_lexer": "ipython3",
   "version": "3.10.14"
  }
 },
 "nbformat": 4,
 "nbformat_minor": 2
}
