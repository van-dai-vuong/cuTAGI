{
 "cells": [
  {
   "cell_type": "code",
   "execution_count": 1,
   "metadata": {},
   "outputs": [],
   "source": [
    "import scipy.io as sio\n",
    "import numpy as np\n",
    "from datetime import datetime, timedelta\n",
    "import csv\n",
    "\n",
    "import os\n",
    "os.chdir('/Users/zhanwenxin/Documents/GitHub/cuTAGI-LSTM')\n",
    "from src.RL_functions.helpers import *"
   ]
  },
  {
   "cell_type": "code",
   "execution_count": 2,
   "metadata": {},
   "outputs": [],
   "source": [
    "# Function to generate datetime values with one-day time step interval starting from a specified date and time\n",
    "def generate_datetime_values(start_datetime, num_values):\n",
    "    datetime_values = []\n",
    "    current_datetime = start_datetime\n",
    "    for _ in range(num_values):\n",
    "        datetime_values.append(current_datetime.strftime('%Y-%m-%d %I:%M:%S'))\n",
    "        current_datetime += timedelta(days=7)\n",
    "    return datetime_values"
   ]
  },
  {
   "cell_type": "code",
   "execution_count": 3,
   "metadata": {},
   "outputs": [],
   "source": [
    "# Import data HQ TS1\n",
    "time_series_path = './data/HQ/LTU030_EXT.mat'\n",
    "\n",
    "# Load data\n",
    "data = sio.loadmat(time_series_path)"
   ]
  },
  {
   "cell_type": "code",
   "execution_count": 4,
   "metadata": {},
   "outputs": [],
   "source": [
    "# real_timestamps = data['timestamps'].T[0]\n",
    "real_timestamps = data['values'][0,0].T[0]\n",
    "real_crack_opening = data['values'][0,2].T[0]\n",
    "\n",
    "# ts_processor = DataProcessor()\n",
    "# resample_timestamps, resample_observations = ts_processor.resample_time_series(matlab_datenum=real_timestamps, \\\n",
    "#                                                                             observations=real_crack_opening, \\\n",
    "#                                                                             frequency='D')\n",
    "\n",
    "resample_timestamps = real_timestamps\n",
    "resample_observations = real_crack_opening\n",
    "\n",
    "# # Remove outliers\n",
    "# resample_observations[746:756]=np.nan\n",
    "# resample_observations[2730:2733]=np.nan\n",
    "\n",
    "# training_idx = int(365*4)\n",
    "# test_idx = int(365*1)\n",
    "\n",
    "training_idx = 156\n",
    "test_idx = 180\n",
    "\n",
    "start_datetime = datetime(2005, 11, 27, 12, 0, 0)  # Start datetime\n",
    "datetime_values = generate_datetime_values(start_datetime, len(resample_timestamps))\n",
    "\n",
    "# Remove outliers\n",
    "resample_observations = np.delete(resample_observations, np.s_[:18])\n",
    "datetime_values = np.delete(datetime_values, np.s_[:18])\n",
    "resample_timestamps = np.delete(resample_timestamps, np.s_[:18])\n",
    "\n",
    "# # # Training set generation\n",
    "# resample_observations = np.delete(resample_observations, np.s_[training_idx:])\n",
    "# datetime_values = np.delete(datetime_values, np.s_[training_idx:])\n",
    "\n",
    "# # Test set generation\n",
    "# resample_observations = np.delete(resample_observations, np.s_[test_idx:])\n",
    "# resample_observations = np.delete(resample_observations, np.s_[:training_idx-26])\n",
    "# datetime_values = np.delete(datetime_values, np.s_[test_idx:])\n",
    "# datetime_values = np.delete(datetime_values, np.s_[:training_idx-26])\n"
   ]
  },
  {
   "cell_type": "code",
   "execution_count": 5,
   "metadata": {},
   "outputs": [],
   "source": [
    "# # Import data HQ TS2\n",
    "# time_series_path = './data/HQ/CASC_LGA_LGABAR_LGA007PIAP-E010_Comb_2311_weekly.mat'\n",
    "\n",
    "# # Load data\n",
    "# data = sio.loadmat(time_series_path)\n",
    "# # real_timestamps = data['timestamps'].T[0]\n",
    "# # real_observations = data['values'].T[0]\n",
    "# real_timestamps = data['values'][:, 1][0].T[0]\n",
    "# remove_index = 574\n",
    "# real_timestamps = np.delete(real_timestamps, np.s_[:remove_index])\n",
    "\n",
    "# start_datetime = datetime(2010, 2, 7, 12, 0, 0)  # Start datetime\n",
    "# datetime_values = generate_datetime_values(start_datetime, len(real_timestamps))\n",
    "\n",
    "# real_disp = data['values'][:, 3][0].T[0]\n",
    "# real_waterlevel = data['values'][:, 5][0].T[0]\n",
    "# real_min_temp = data['values'][:, 6][0].T[0]\n",
    "# real_max_temp = data['values'][:, 7][0].T[0]\n",
    "\n",
    "# real_disp = np.delete(real_disp, np.s_[:remove_index]).tolist()\n",
    "# real_waterlevel = np.delete(real_waterlevel, np.s_[:remove_index]).tolist()\n",
    "# real_min_temp = np.delete(real_min_temp, np.s_[:remove_index]).tolist()\n",
    "# real_max_temp = np.delete(real_max_temp, np.s_[:remove_index]).tolist()"
   ]
  },
  {
   "cell_type": "markdown",
   "metadata": {},
   "source": [
    "## Save"
   ]
  },
  {
   "cell_type": "code",
   "execution_count": 6,
   "metadata": {},
   "outputs": [],
   "source": [
    "# with open('hq_ts2.csv', 'w', newline='') as csvfile:\n",
    "#     writer = csv.writer(csvfile)\n",
    "#     writer.writerow(['displacement_y', 'water_level', 'min_temp', 'max_temp'])  # Write header\n",
    "#     for i in range(len(real_timestamps)):\n",
    "#         writer.writerow([round(float(real_disp[i]), 3), round(float(real_waterlevel[i]), 3), round(float(real_min_temp[i]), 3), round(float(real_max_temp[i]), 3)])\n",
    "\n",
    "# # Generate obs_datetime.csv\n",
    "# with open('hq_ts2_datetime.csv', 'w', newline='') as csvfile:\n",
    "#     writer = csv.writer(csvfile)\n",
    "#     writer.writerow(['date_time'])  # Write header\n",
    "#     for i in range(len(real_timestamps)):\n",
    "#         writer.writerow([datetime_values[i]])  # Write formatted datetime string"
   ]
  },
  {
   "cell_type": "code",
   "execution_count": 7,
   "metadata": {},
   "outputs": [],
   "source": [
    "with open('hq_ts5.csv', 'w', newline='') as csvfile:\n",
    "    writer = csv.writer(csvfile)\n",
    "    writer.writerow(['crack_opening'])  # Write header\n",
    "    for i in range(len(datetime_values)):\n",
    "        writer.writerow([round(float(resample_observations[i]), 3)])\n",
    "\n",
    "# Generate obs_datetime.csv\n",
    "with open('hq_ts5_datetime.csv', 'w', newline='') as csvfile:\n",
    "    writer = csv.writer(csvfile)\n",
    "    writer.writerow(['date_time'])  # Write header\n",
    "    for i in range(len(datetime_values)):\n",
    "        writer.writerow([datetime_values[i]])  # Write formatted datetime string"
   ]
  }
 ],
 "metadata": {
  "kernelspec": {
   "display_name": "pytagi_lstm",
   "language": "python",
   "name": "python3"
  },
  "language_info": {
   "codemirror_mode": {
    "name": "ipython",
    "version": 3
   },
   "file_extension": ".py",
   "mimetype": "text/x-python",
   "name": "python",
   "nbconvert_exporter": "python",
   "pygments_lexer": "ipython3",
   "version": "3.10.14"
  }
 },
 "nbformat": 4,
 "nbformat_minor": 2
}
