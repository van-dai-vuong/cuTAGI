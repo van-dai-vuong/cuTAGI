{
 "cells": [
  {
   "cell_type": "code",
   "execution_count": 1,
   "metadata": {},
   "outputs": [],
   "source": [
    "import scipy.io as sio\n",
    "import numpy as np\n",
    "from datetime import datetime, timedelta\n",
    "import csv\n",
    "\n",
    "import os\n",
    "os.chdir('/Users/zhanwenxin/Documents/GitHub/cuTAGI-LSTM')"
   ]
  },
  {
   "cell_type": "code",
   "execution_count": 2,
   "metadata": {},
   "outputs": [],
   "source": [
    "# Function to generate datetime values with one-day time step interval starting from a specified date and time\n",
    "def generate_datetime_values(start_datetime, num_values):\n",
    "    datetime_values = []\n",
    "    current_datetime = start_datetime\n",
    "    for _ in range(num_values):\n",
    "        datetime_values.append(current_datetime.strftime('%Y-%m-%d %I:%M:%S'))\n",
    "        current_datetime += timedelta(days=7)\n",
    "    return datetime_values"
   ]
  },
  {
   "cell_type": "code",
   "execution_count": 3,
   "metadata": {},
   "outputs": [],
   "source": [
    "# Import data\n",
    "time_series_path = './data/HQ/CASC_LGA_LGABAR_LGA007PIAP-E010_Comb_2311_weekly.mat'\n",
    "\n",
    "# Load data\n",
    "data = sio.loadmat(time_series_path)\n",
    "# real_timestamps = data['timestamps'].T[0]\n",
    "# real_observations = data['values'].T[0]\n",
    "real_timestamps = data['values'][:, 1][0].T[0]\n",
    "remove_index = 574\n",
    "real_timestamps = np.delete(real_timestamps, np.s_[:remove_index])\n",
    "\n",
    "start_datetime = datetime(2010, 2, 7, 12, 0, 0)  # Start datetime\n",
    "datetime_values = generate_datetime_values(start_datetime, len(real_timestamps))\n",
    "\n",
    "real_disp = data['values'][:, 3][0].T[0]\n",
    "real_waterlevel = data['values'][:, 5][0].T[0]\n",
    "real_min_temp = data['values'][:, 6][0].T[0]\n",
    "real_max_temp = data['values'][:, 7][0].T[0]\n",
    "\n",
    "real_disp = np.delete(real_disp, np.s_[:remove_index]).tolist()\n",
    "real_waterlevel = np.delete(real_waterlevel, np.s_[:remove_index]).tolist()\n",
    "real_min_temp = np.delete(real_min_temp, np.s_[:remove_index]).tolist()\n",
    "real_max_temp = np.delete(real_max_temp, np.s_[:remove_index]).tolist()"
   ]
  },
  {
   "cell_type": "markdown",
   "metadata": {},
   "source": [
    "## Save"
   ]
  },
  {
   "cell_type": "code",
   "execution_count": 4,
   "metadata": {},
   "outputs": [],
   "source": [
    "# with open('hq_ts2.csv', 'w', newline='') as csvfile:\n",
    "#     writer = csv.writer(csvfile)\n",
    "#     writer.writerow(['displacement_y', 'water_level', 'min_temp', 'max_temp'])  # Write header\n",
    "#     for i in range(len(real_timestamps)):\n",
    "#         writer.writerow([round(float(real_disp[i]), 3), round(float(real_waterlevel[i]), 3), round(float(real_min_temp[i]), 3), round(float(real_max_temp[i]), 3)])\n",
    "\n",
    "# # Generate obs_datetime.csv\n",
    "# with open('hq_ts2_datetime.csv', 'w', newline='') as csvfile:\n",
    "#     writer = csv.writer(csvfile)\n",
    "#     writer.writerow(['date_time'])  # Write header\n",
    "#     for i in range(len(real_timestamps)):\n",
    "#         writer.writerow([datetime_values[i]])  # Write formatted datetime string"
   ]
  }
 ],
 "metadata": {
  "kernelspec": {
   "display_name": "pytagi_lstm",
   "language": "python",
   "name": "python3"
  },
  "language_info": {
   "codemirror_mode": {
    "name": "ipython",
    "version": 3
   },
   "file_extension": ".py",
   "mimetype": "text/x-python",
   "name": "python",
   "nbconvert_exporter": "python",
   "pygments_lexer": "ipython3",
   "version": "3.10.14"
  }
 },
 "nbformat": 4,
 "nbformat_minor": 2
}
